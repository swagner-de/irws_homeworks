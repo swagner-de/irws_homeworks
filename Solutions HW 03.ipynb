{
 "cells": [
  {
   "cell_type": "markdown",
   "metadata": {},
   "source": [
    "# IRWS Homework 03\n",
    "*Sebastian Wagner*\n",
    "## Exercise 1\n",
    "### a)"
   ]
  },
  {
   "cell_type": "code",
   "execution_count": 35,
   "metadata": {
    "collapsed": true,
    "scrolled": true
   },
   "outputs": [],
   "source": [
    "from pprint import pprint\n",
    "import matplotlib.pyplot as plt\n",
    "import numpy as np\n",
    "import nltk\n",
    "import string\n",
    "import math\n",
    "import sklearn.cluster\n",
    "\n",
    "from nltk.tokenize import TreebankWordTokenizer\n",
    "from nltk.stem import WordNetLemmatizer\n",
    "from nltk.corpus import wordnet"
   ]
  },
  {
   "cell_type": "markdown",
   "metadata": {},
   "source": [
    "defining the documents here and set the vocabulary"
   ]
  },
  {
   "cell_type": "code",
   "execution_count": 4,
   "metadata": {
    "collapsed": true
   },
   "outputs": [],
   "source": [
    "TOKENIZER = TreebankWordTokenizer()\n",
    "LEMMATIZER = WordNetLemmatizer()\n",
    "\n",
    "\n",
    "d1 = \"Frodo and Sam were trembling in the darkness, surrounded in darkness by hundreds of blood-thirsty orc. Sam was certain these beasts were about to taste the scent of their flesh.\"\n",
    "d2 = \"The faceless black beast then stabbed Frodo. He felt like every nerve in his body was hurting. Suddenly, he thought of Sam and his calming smile. Frodo had betrayed him.\"\n",
    "d3 = \"Frodo’s sword was radiating blue, stronger and stronger every second. Orc were getting closer. And these weren’t just regular orc either, Uruk-Hai were among them. Frodo had killed regular orc before, but he had never stabbed an Uruk-Hai, not with the blue stick.\"\n",
    "d4 = \"Sam was carrying a small lamp, shedding some blue light. He was afraid that orc might spot him, but it was the only way to avoid deadly pitfalls of Mordor.\"\n",
    "\n",
    "docs = [d1.lower(), d2.lower(), d3.lower(), d4.lower()]\n",
    "\n",
    "\n",
    "ORDERED_VOC = [t.lower() for t in [\"Frodo\", \"Sam\", \"beast\", \"orc\", \"blue\"]]\n",
    "VOC = set(ORDERED_VOC)"
   ]
  },
  {
   "cell_type": "markdown",
   "metadata": {},
   "source": [
    "defining some functions here that will be needed later on"
   ]
  },
  {
   "cell_type": "code",
   "execution_count": 5,
   "metadata": {
    "collapsed": true
   },
   "outputs": [],
   "source": [
    "# stolen from http://stackoverflow.com/questions/15586721/wordnet-lemmatization-and-pos-tagging-in-python\n",
    "def get_wordnet_pos(treebank_tag):\n",
    "    if treebank_tag.startswith('J'):\n",
    "        return wordnet.ADJ\n",
    "    elif treebank_tag.startswith('V'):\n",
    "        return wordnet.VERB\n",
    "    elif treebank_tag.startswith('N'):\n",
    "        return wordnet.NOUN\n",
    "    elif treebank_tag.startswith('R'):\n",
    "        return wordnet.ADV\n",
    "    else:\n",
    "        return ''\n",
    "\n",
    "def reduce_to_voc(tokens):\n",
    "    t_rel = []\n",
    "    for t in tokens:\n",
    "        if t in VOC:\n",
    "            t_rel.append(t)\n",
    "    return t_rel\n",
    "\n",
    "def lemmatize(tokens):\n",
    "    tagged = nltk.pos_tag(tokens)\n",
    "    for t in tagged:\n",
    "        try:\n",
    "            yield LEMMATIZER.lemmatize(t[0], get_wordnet_pos(t[1]))\n",
    "        except KeyError:\n",
    "            pass\n",
    "        \n",
    "def tokenize(doc):\n",
    "    doc = \" \".join(\"\".join([\" \" if ch in string.punctuation else ch for ch in doc]).split())\n",
    "    result = []\n",
    "    for token in TOKENIZER.tokenize(doc):\n",
    "        result.append(token.lower())\n",
    "    return result\n",
    "\n",
    "def preprocess(doc):\n",
    "    tokens = tokenize(doc)\n",
    "    tokens = lemmatize(tokens)\n",
    "    tokens = reduce_to_voc(tokens)\n",
    "    return tokens"
   ]
  },
  {
   "cell_type": "markdown",
   "metadata": {},
   "source": [
    "do preprocessing, the follwoing tokens remain\n",
    "documents are numbered horizontally, commencing from doc1"
   ]
  },
  {
   "cell_type": "code",
   "execution_count": 6,
   "metadata": {},
   "outputs": [
    {
     "name": "stdout",
     "output_type": "stream",
     "text": [
      "[['frodo', 'sam', 'orc', 'sam', 'beast'],\n",
      " ['beast', 'frodo', 'sam', 'frodo'],\n",
      " ['blue', 'orc', 'orc', 'frodo', 'orc', 'blue'],\n",
      " ['sam', 'blue', 'orc']]\n"
     ]
    }
   ],
   "source": [
    "docs_prep = []\n",
    "for doc in docs:\n",
    "    docs_prep.append(preprocess(doc))\n",
    "pprint(docs_prep)"
   ]
  },
  {
   "cell_type": "markdown",
   "metadata": {},
   "source": [
    "compute the idf matrix"
   ]
  },
  {
   "cell_type": "code",
   "execution_count": 7,
   "metadata": {},
   "outputs": [
    {
     "name": "stdout",
     "output_type": "stream",
     "text": [
      "['frodo', 'sam', 'beast', 'orc', 'blue']\n",
      "array([[ 0.75,  0.  ,  0.  ,  0.  ,  0.  ],\n",
      "       [ 0.  ,  0.75,  0.  ,  0.  ,  0.  ],\n",
      "       [ 0.  ,  0.  ,  0.5 ,  0.  ,  0.  ],\n",
      "       [ 0.  ,  0.  ,  0.  ,  0.75,  0.  ],\n",
      "       [ 0.  ,  0.  ,  0.  ,  0.  ,  0.5 ]])\n"
     ]
    }
   ],
   "source": [
    "def compute_idf(docs):\n",
    "    mat = np.zeros((len(ORDERED_VOC), len(ORDERED_VOC)))\n",
    "    no_docs = len(docs)\n",
    "    for doc in docs:\n",
    "        for i in range(len(ORDERED_VOC)):\n",
    "            term = ORDERED_VOC[i]\n",
    "            mat[i,i] += 1 if term in doc else 0\n",
    "    return np.divide(mat, no_docs)\n",
    "\n",
    "idf = compute_idf(docs_prep)\n",
    "pprint(ORDERED_VOC)\n",
    "pprint(idf)"
   ]
  },
  {
   "cell_type": "markdown",
   "metadata": {},
   "source": [
    "compute the tf matrix"
   ]
  },
  {
   "cell_type": "code",
   "execution_count": 8,
   "metadata": {
    "scrolled": true
   },
   "outputs": [
    {
     "name": "stdout",
     "output_type": "stream",
     "text": [
      "array([[ 1.,  2.,  1.,  1.,  0.],\n",
      "       [ 2.,  1.,  1.,  0.,  0.],\n",
      "       [ 1.,  0.,  0.,  3.,  2.],\n",
      "       [ 0.,  1.,  0.,  1.,  1.]])\n"
     ]
    }
   ],
   "source": [
    "def compute_tf(docs):\n",
    "    mat = np.zeros((len(docs) ,len(ORDERED_VOC)))\n",
    "    for d in range(len(docs)):\n",
    "        doc = docs[d]\n",
    "        for t in range(len(ORDERED_VOC)):\n",
    "            term = ORDERED_VOC[t]\n",
    "            mat[d][t] = doc.count(term)\n",
    "    return mat\n",
    "\n",
    "tf = compute_tf(docs_prep)\n",
    "pprint(tf)"
   ]
  },
  {
   "cell_type": "markdown",
   "metadata": {},
   "source": [
    "compute the tf-idf matrix, then transpose it so it is in document-term format"
   ]
  },
  {
   "cell_type": "code",
   "execution_count": 9,
   "metadata": {
    "scrolled": true
   },
   "outputs": [
    {
     "name": "stdout",
     "output_type": "stream",
     "text": [
      "array([[ 0.75,  1.5 ,  0.75,  0.  ],\n",
      "       [ 1.5 ,  0.75,  0.  ,  0.75],\n",
      "       [ 0.5 ,  0.5 ,  0.  ,  0.  ],\n",
      "       [ 0.75,  0.  ,  2.25,  0.75],\n",
      "       [ 0.  ,  0.  ,  1.  ,  0.5 ]])\n"
     ]
    }
   ],
   "source": [
    "tf_idf = np.matmul(tf, idf)\n",
    "term_doc_tfidf = np.transpose(tf_idf)\n",
    "pprint(term_doc_tfidf)"
   ]
  },
  {
   "cell_type": "markdown",
   "metadata": {},
   "source": [
    "### b)"
   ]
  },
  {
   "cell_type": "code",
   "execution_count": 10,
   "metadata": {},
   "outputs": [
    {
     "name": "stdout",
     "output_type": "stream",
     "text": [
      "[array([[-0.46176305, -0.4352475 , -0.73434277,  0.08708796, -0.22470177],\n",
      "       [-0.40142314, -0.5883274 ,  0.66623669,  0.16253806, -0.14980118],\n",
      "       [-0.13572251, -0.28374531, -0.05707485, -0.29992719,  0.89880706],\n",
      "       [-0.72507269,  0.52902442,  0.11562721, -0.41883529, -0.07490059],\n",
      "       [-0.28545288,  0.3225713 , -0.01556212,  0.83702912,  0.33705265]]),\n",
      " array([[ 3.10777963,  0.        ,  0.        ,  0.        ],\n",
      "       [ 0.        ,  1.96446704,  0.        ,  0.        ],\n",
      "       [ 0.        ,  0.        ,  1.04054244,  0.        ],\n",
      "       [ 0.        ,  0.        ,  0.        ,  0.29554427]]),\n",
      " array([[-0.50200559, -0.34158573, -0.72823333, -0.31778261],\n",
      "       [-0.48564371, -0.62917291,  0.60395038,  0.05946061],\n",
      "       [ 0.48703533, -0.60581294, -0.29422921,  0.55607233],\n",
      "       [-0.5243445 ,  0.34706097, -0.13545965,  0.76567762]])]\n"
     ]
    }
   ],
   "source": [
    "def svd(mat):\n",
    "    return np.linalg.svd(mat)\n",
    "    \n",
    "u, sigma, v = svd(term_doc_tfidf)\n",
    "sigma = np.diag(sigma)\n",
    "    \n",
    "pprint([u, sigma, v])"
   ]
  },
  {
   "cell_type": "markdown",
   "metadata": {
    "collapsed": true
   },
   "source": [
    "### c)"
   ]
  },
  {
   "cell_type": "code",
   "execution_count": 11,
   "metadata": {},
   "outputs": [
    {
     "name": "stdout",
     "output_type": "stream",
     "text": [
      "Latent matrices with K2\n",
      "[array([[-0.46176305, -0.4352475 ],\n",
      "       [-0.40142314, -0.5883274 ],\n",
      "       [-0.13572251, -0.28374531],\n",
      "       [-0.72507269,  0.52902442],\n",
      "       [-0.28545288,  0.3225713 ]]),\n",
      " array([[ 3.10777963,  0.        ,  0.        ,  0.        ],\n",
      "       [ 0.        ,  1.96446704,  0.        ,  0.        ]]),\n",
      " array([[-0.50200559, -0.34158573],\n",
      "       [-0.48564371, -0.62917291],\n",
      "       [ 0.48703533, -0.60581294],\n",
      "       [-0.5243445 ,  0.34706097]])]\n",
      "\n",
      "doc vector in 2 dimensional space\n",
      "array([[-1.56012276, -1.50927363,  1.51359849, -1.62954716],\n",
      "       [-0.67103391, -1.23598945, -1.19009955,  0.68178984]])\n"
     ]
    },
    {
     "data": {
      "image/png": "[encoded data removed]",
      "text/plain": [
       "<matplotlib.figure.Figure at 0x7f01397e7fd0>"
      ]
     },
     "metadata": {},
     "output_type": "display_data"
    }
   ],
   "source": [
    "sigma_2 = sigma[:2,:]\n",
    "u_2 = u[:,:2]\n",
    "v_2 = v[:,:2]\n",
    "print('Latent matrices with K2')\n",
    "pprint([u_2, sigma_2, v_2])\n",
    "\n",
    "dense_vec = np.matmul(sigma_2, np.transpose(v))\n",
    "\n",
    "print('\\ndoc vector in 2 dimensional space')\n",
    "pprint(dense_vec)\n",
    "\n",
    "x = dense_vec[:1,:]\n",
    "y = dense_vec[1:2,:]\n",
    "\n",
    "plt.scatter(x, y)\n",
    "plt.show()"
   ]
  },
  {
   "cell_type": "markdown",
   "metadata": {},
   "source": [
    "### d)\n"
   ]
  },
  {
   "cell_type": "code",
   "execution_count": 12,
   "metadata": {},
   "outputs": [
    {
     "name": "stdout",
     "output_type": "stream",
     "text": [
      "TF-IDF vector query\n",
      "[array([[ 0.  ],\n",
      "       [ 0.75],\n",
      "       [ 0.  ],\n",
      "       [ 0.75],\n",
      "       [ 0.5 ]])]\n",
      "\n",
      "Query Vector in latent space \n",
      "array([[-0.98759831],\n",
      "       [ 0.11680842]])\n",
      "\n",
      "ranked documents:\n",
      "[{'doc': array([-1.62954716,  0.68178984]),\n",
      "  'index': 4,\n",
      "  'similarity': 0.61174681110603102},\n",
      " {'doc': array([-1.56012276, -0.67103391]),\n",
      "  'index': 1,\n",
      "  'similarity': 0.54307578097291054},\n",
      " {'doc': array([-1.50927363, -1.23598945]),\n",
      "  'index': 2,\n",
      "  'similarity': 0.45706564310875086},\n",
      " {'doc': array([ 1.51359849, -1.19009955]),\n",
      "  'index': 3,\n",
      "  'similarity': -0.55954959440477048}]\n"
     ]
    }
   ],
   "source": [
    "query= ['sam', 'blue', 'orc']\n",
    "tf_query = compute_tf([query])\n",
    "tf_idf_query = np.transpose(np.matmul(tf_query, idf))\n",
    "print('TF-IDF vector query')\n",
    "pprint([tf_idf_query])\n",
    "\n",
    "print('\\nQuery Vector in latent space ')\n",
    "dense_query = np.matmul(np.transpose(u_2), tf_idf_query)\n",
    "pprint(dense_query)\n",
    "\n",
    "def cosine(doc1, doc2):\n",
    "    length_doc1 = 0\n",
    "    length_doc2 = 0\n",
    "    scalar = 0.0\n",
    "    if not len(doc1) == len(doc2):\n",
    "        raise ValueError('Vectors of different length')\n",
    "    for i in range(len(doc1)):\n",
    "        scalar += doc1[i] * doc2[i]\n",
    "        length_doc1 += math.pow(doc1[i], 2) \n",
    "        length_doc2 += math.pow(doc2[i], 2)\n",
    "    length_doc1, length_doc2 = math.sqrt(length_doc1), math.sqrt(length_doc2)\n",
    "    return scalar / (length_doc1 + length_doc2)\n",
    "\n",
    "def rank(doc_term, query_term):\n",
    "    ranking = []\n",
    "    i = 0\n",
    "    for doc in (doc_term):\n",
    "        sim = {'doc':  doc,\n",
    "               'index' : i+1,\n",
    "               'similarity' : cosine(doc, query_term)\n",
    "              }\n",
    "        i += 1\n",
    "        ranking.append(sim)\n",
    "    return sorted(ranking, key=lambda x: x['similarity'], reverse=True)\n",
    "\n",
    "\n",
    "    \n",
    "ranked = rank(np.transpose(dense_vec), np.transpose(dense_query)[0])\n",
    "print('\\nranked documents:')\n",
    "pprint(ranked)\n"
   ]
  },
  {
   "cell_type": "markdown",
   "metadata": {},
   "source": [
    "## Exercise 2\n",
    "### a)"
   ]
  },
  {
   "cell_type": "code",
   "execution_count": 28,
   "metadata": {},
   "outputs": [
    {
     "name": "stdout",
     "output_type": "stream",
     "text": [
      "Single pass clustering with lamda=0.6\n",
      "Cluster 0:\n",
      "\t[0.4, 0.51, 0.01, 0.1, 0.12, 0.22, 0.26, 0.34, 0.42, 0.38]\n",
      "Cluster 1:\n",
      "\t[0.17, 0.21, 0.35, 0.44, 0.49, 0.39, 0.09, 0.07, 0.37, 0.24]\n",
      "Cluster 2:\n",
      "\t[0.49, 0.48, 0.44, 0.09, 0.24, 0.2, 0.41, 0.16, 0.1, 0.15]\n",
      "Cluster 3:\n",
      "\t[0.41, 0.36, 0.27, 0.19, 0.15, 0.42, 0.23, 0.42, 0.02, 0.42]\n",
      "Cluster 4:\n",
      "\t[0.31, 0.41, 0.21, 0.19, 0.47, 0.28, 0.21, 0.39, 0.16, 0.38]\n",
      "Cluster 5:\n",
      "\t[0.46, 0.12, 0.21, 0.25, 0.38, 0.38, 0.46, 0.23, 0.31, 0.14]\n",
      "Cluster 6:\n",
      "\t[0.13, 0.33, 0.28, 0.42, 0.07, 0.13, 0.58, 0.15, 0.0, 0.49]\n",
      "Cluster 7:\n",
      "\t[0.21, 0.09, 0.07, 0.09, 0.3, 0.54, 0.24, 0.43, 0.51, 0.21]\n",
      "Cluster 8:\n",
      "\t[0.18, 0.39, 0.42, 0.05, 0.41, 0.1, 0.52, 0.12, 0.14, 0.38]\n",
      "Single pass clustering with lamda=0.8\n",
      "Cluster 0:\n",
      "\t[0.18, 0.39, 0.42, 0.05, 0.41, 0.1, 0.52, 0.12, 0.14, 0.38]\n",
      "Cluster 1:\n",
      "\t[0.17, 0.21, 0.35, 0.44, 0.49, 0.39, 0.09, 0.07, 0.37, 0.24]\n",
      "Cluster 2:\n",
      "\t[0.49, 0.48, 0.44, 0.09, 0.24, 0.2, 0.41, 0.16, 0.1, 0.15]\n",
      "Cluster 3:\n",
      "\t[0.41, 0.36, 0.27, 0.19, 0.15, 0.42, 0.23, 0.42, 0.02, 0.42]\n",
      "Cluster 4:\n",
      "\t[0.31, 0.41, 0.21, 0.19, 0.47, 0.28, 0.21, 0.39, 0.16, 0.38]\n",
      "Cluster 5:\n",
      "\t[0.46, 0.12, 0.21, 0.25, 0.38, 0.38, 0.46, 0.23, 0.31, 0.14]\n",
      "Cluster 6:\n",
      "\t[0.13, 0.33, 0.28, 0.42, 0.07, 0.13, 0.58, 0.15, 0.0, 0.49]\n",
      "Cluster 7:\n",
      "\t[0.21, 0.09, 0.07, 0.09, 0.3, 0.54, 0.24, 0.43, 0.51, 0.21]\n"
     ]
    }
   ],
   "source": [
    "doc_term_idfvector = [\n",
    "    [0.17, 0.21, 0.35, 0.44, 0.49, 0.39, 0.09, 0.07, 0.37, 0.24],\n",
    "    [0.49, 0.48, 0.44, 0.09, 0.24, 0.2, 0.41, 0.16, 0.1, 0.15],\n",
    "    [0.41, 0.36, 0.27, 0.19, 0.15, 0.42, 0.23, 0.42, 0.02, 0.42],\n",
    "    [0.31, 0.41, 0.21, 0.19, 0.47, 0.28, 0.21, 0.39, 0.16, 0.38],\n",
    "    [0.46, 0.12, 0.21, 0.25, 0.38, 0.38, 0.46, 0.23, 0.31, 0.14],\n",
    "    [0.13, 0.33, 0.28, 0.42, 0.07, 0.13, 0.58, 0.15, 0.0, 0.49],\n",
    "    [0.21, 0.09, 0.07, 0.09, 0.3, 0.54, 0.24, 0.43, 0.51, 0.21],\n",
    "    [0.18, 0.39, 0.42, 0.05, 0.41, 0.1, 0.52, 0.12, 0.14, 0.38],\n",
    "    [0.4, 0.51, 0.01, 0.1, 0.12, 0.22, 0.26, 0.34, 0.42, 0.38]\n",
    "]\n",
    "\n",
    "\n",
    "def avg_cluster_similarity(cluster, doc):\n",
    "    similarity = 0.0\n",
    "    for member in cluster:\n",
    "        similarity += cosine(member, doc)\n",
    "    sim = similarity/len(cluster)\n",
    "    return sim\n",
    "\n",
    "def max_cluster_similarity(cluster, doc):\n",
    "    max_similarity = 0.0\n",
    "    for member in cluster:\n",
    "        current_sim = cosine(member, doc)\n",
    "        if current_sim > max_similarity:\n",
    "            max_similarity = current_sim\n",
    "    return max_similarity\n",
    "    \n",
    "def single_pass_clustering(docs, lamda, cluster_similarity):\n",
    "    \"\"\"\n",
    "    returns: clusters; first array is the list of clusters, which then contains a list of documents\n",
    "    \"\"\"\n",
    "    clusters = []\n",
    "    clusters.append([docs.pop(-1)])\n",
    "    # loop over each doc and try to assign to cluster\n",
    "    for doc in docs:\n",
    "        max_similarity = 0\n",
    "        best_cluster = None\n",
    "        for cluster in clusters:\n",
    "            # determine the best matching cluster, lamda will be checked later on\n",
    "            sim = cluster_similarity(cluster, doc)\n",
    "            if sim > max_similarity:\n",
    "                max_similarity = sim\n",
    "                best_cluster = cluster\n",
    "        if lamda > max_similarity:\n",
    "            # create a new cluster\n",
    "            clusters.append([doc])\n",
    "        else:\n",
    "            # append to existing cluster\n",
    "            best_cluster.append(doc)\n",
    "    return clusters\n",
    "\n",
    "\n",
    "def print_clusters(clusters):\n",
    "    i = 0\n",
    "    for cluster in clusters:\n",
    "        print('Cluster %s:' % (str(i)))\n",
    "        i += 1\n",
    "        print('\\t' + \"; \".join([str(doc) for doc in cluster]))\n",
    "    \n",
    "spc0_6 = single_pass_clustering(doc_term_idfvector, 0.6, max_cluster_similarity)\n",
    "spc0_8 = single_pass_clustering(doc_term_idfvector, 0.8, max_cluster_similarity)\n",
    "\n",
    "print('Single pass clustering with lamda=0.6')\n",
    "print_clusters(spc0_6)\n",
    "\n",
    "print('Single pass clustering with lamda=0.8')\n",
    "print_clusters(spc0_8)"
   ]
  },
  {
   "cell_type": "markdown",
   "metadata": {
    "collapsed": true
   },
   "source": [
    "I tried average cluster similarity and maximum cluster similarity, however, the similarities within the cluster are mostly in a range between .2 and .45. The change of lamda therefore stays mostly without effect.\n",
    "In generall a lower lamda will lead to less clusters as the algorithm will assign a document with lower similarities to an existing cluster"
   ]
  },
  {
   "cell_type": "code",
   "execution_count": 31,
   "metadata": {
    "scrolled": true
   },
   "outputs": [
    {
     "name": "stdout",
     "output_type": "stream",
     "text": [
      "Single pass clustering with lamda=0.8 and reversed streamlining\n",
      "Cluster 0:\n",
      "\t[0.17, 0.21, 0.35, 0.44, 0.49, 0.39, 0.09, 0.07, 0.37, 0.24]\n",
      "Cluster 1:\n",
      "\t[0.21, 0.09, 0.07, 0.09, 0.3, 0.54, 0.24, 0.43, 0.51, 0.21]\n",
      "Cluster 2:\n",
      "\t[0.13, 0.33, 0.28, 0.42, 0.07, 0.13, 0.58, 0.15, 0.0, 0.49]\n",
      "Cluster 3:\n",
      "\t[0.46, 0.12, 0.21, 0.25, 0.38, 0.38, 0.46, 0.23, 0.31, 0.14]\n",
      "Cluster 4:\n",
      "\t[0.31, 0.41, 0.21, 0.19, 0.47, 0.28, 0.21, 0.39, 0.16, 0.38]\n",
      "Cluster 5:\n",
      "\t[0.41, 0.36, 0.27, 0.19, 0.15, 0.42, 0.23, 0.42, 0.02, 0.42]\n",
      "Cluster 6:\n",
      "\t[0.49, 0.48, 0.44, 0.09, 0.24, 0.2, 0.41, 0.16, 0.1, 0.15]\n"
     ]
    }
   ],
   "source": [
    "spc0_8_reversed = single_pass_clustering([d for d in reversed(doc_term_idfvector)], 0.8, max_cluster_similarity)\n",
    "print('Single pass clustering with lamda=0.8 and reversed streamlining')\n",
    "print_clusters(spc0_8_reversed)"
   ]
  },
  {
   "cell_type": "markdown",
   "metadata": {},
   "source": [
    "The clusters change, which is entailed by the different start cluster the algorithm has chosen"
   ]
  },
  {
   "cell_type": "markdown",
   "metadata": {},
   "source": [
    "### b)"
   ]
  },
  {
   "cell_type": "code",
   "execution_count": 60,
   "metadata": {},
   "outputs": [
    {
     "name": "stdout",
     "output_type": "stream",
     "text": [
      "Cluster centers\n",
      "array([[ 0.3725,  0.3225,  0.3   ,  0.2375,  0.21  ,  0.2825,  0.42  ,\n",
      "         0.24  ,  0.1075,  0.3   ],\n",
      "       [ 0.24  ,  0.31  ,  0.28  ,  0.315 ,  0.48  ,  0.335 ,  0.15  ,\n",
      "         0.23  ,  0.265 ,  0.31  ],\n",
      "       [ 0.21  ,  0.09  ,  0.07  ,  0.09  ,  0.3   ,  0.54  ,  0.24  ,\n",
      "         0.43  ,  0.51  ,  0.21  ]])\n",
      "Doc [0.17, 0.21, 0.35, 0.44, 0.49, 0.39, 0.09, 0.07, 0.37, 0.24] assigned to cluster 1\n",
      "Doc [0.49, 0.48, 0.44, 0.09, 0.24, 0.2, 0.41, 0.16, 0.1, 0.15] assigned to cluster 0\n",
      "Doc [0.41, 0.36, 0.27, 0.19, 0.15, 0.42, 0.23, 0.42, 0.02, 0.42] assigned to cluster 0\n",
      "Doc [0.31, 0.41, 0.21, 0.19, 0.47, 0.28, 0.21, 0.39, 0.16, 0.38] assigned to cluster 1\n",
      "Doc [0.46, 0.12, 0.21, 0.25, 0.38, 0.38, 0.46, 0.23, 0.31, 0.14] assigned to cluster 0\n",
      "Doc [0.13, 0.33, 0.28, 0.42, 0.07, 0.13, 0.58, 0.15, 0.0, 0.49] assigned to cluster 0\n",
      "Doc [0.21, 0.09, 0.07, 0.09, 0.3, 0.54, 0.24, 0.43, 0.51, 0.21] assigned to cluster 2\n"
     ]
    },
    {
     "name": "stderr",
     "output_type": "stream",
     "text": [
      "/usr/local/lib/python3.5/dist-packages/sklearn/cluster/k_means_.py:889: RuntimeWarning: Explicit initial center position passed: performing only one init in k-means instead of n_init=10\n",
      "  return_n_iter=True)\n"
     ]
    }
   ],
   "source": [
    "centroids = [\n",
    "    [0.33, 0.33, 0.42, 0.12, 0.2, 0.34, 0.58, 0.19, 0.07, 0.24],\n",
    "    [0.29, 0.16, 0.38, 0.48, 0.43, 0.11, 0.12, 0.33, 0.03, 0.44],\n",
    "    [0.01, 0.17, 0.11, 0.27, 0.23, 0.37, 0.35, 0.48, 0.54, 0.24]\n",
    "]\n",
    "centroids_np = np.array(centroids)\n",
    "\n",
    "kmeans = sklearn.cluster.KMeans(n_clusters=3, init=centroids_np).fit(np.array(doc_term_idfvector))\n",
    "centers = kmeans.cluster_centers_\n",
    "\n",
    "print('Cluster centers')\n",
    "pprint(centers)\n",
    "\n",
    "for doc in doc_term_idfvector:\n",
    "    clusters = []\n",
    "    best_cluster = None\n",
    "    max_sim = 0.0\n",
    "    for center in range(len(centers)):\n",
    "        sim = avg_cluster_similarity([centers[center]], doc)\n",
    "        if max_sim < sim:\n",
    "            max_sim = sim\n",
    "            best_cluster = center\n",
    "    print('Doc %s assigned to cluster %s' %(doc, str(best_cluster)))\n",
    "        \n",
    "    \n",
    "\n",
    "\n",
    "\n",
    "        \n",
    "    "
   ]
  },
  {
   "cell_type": "markdown",
   "metadata": {},
   "source": [
    "## Exercise 3\n",
    "### a)"
   ]
  },
  {
   "cell_type": "code",
   "execution_count": null,
   "metadata": {
    "collapsed": true
   },
   "outputs": [],
   "source": []
  }
 ],
 "metadata": {
  "kernelspec": {
   "display_name": "Python 3",
   "language": "python",
   "name": "python3"
  },
  "language_info": {
   "codemirror_mode": {
    "name": "ipython",
    "version": 3
   },
   "file_extension": ".py",
   "mimetype": "text/x-python",
   "name": "python",
   "nbconvert_exporter": "python",
   "pygments_lexer": "ipython3",
   "version": "3.5.2"
  }
 },
 "nbformat": 4,
 "nbformat_minor": 2
}
